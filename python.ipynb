{
  "nbformat": 4,
  "nbformat_minor": 0,
  "metadata": {
    "colab": {
      "provenance": [],
      "authorship_tag": "ABX9TyP2m+jkuCpcBSe+LLZGNRNW",
      "include_colab_link": true
    },
    "kernelspec": {
      "name": "python3",
      "display_name": "Python 3"
    },
    "language_info": {
      "name": "python"
    }
  },
  "cells": [
    {
      "cell_type": "markdown",
      "metadata": {
        "id": "view-in-github",
        "colab_type": "text"
      },
      "source": [
        "<a href=\"https://colab.research.google.com/github/ankita967/college-work/blob/main/python.ipynb\" target=\"_parent\"><img src=\"https://colab.research.google.com/assets/colab-badge.svg\" alt=\"Open In Colab\"/></a>"
      ]
    },
    {
      "cell_type": "code",
      "execution_count": 2,
      "metadata": {
        "colab": {
          "base_uri": "https://localhost:8080/"
        },
        "id": "tuMHwJn98NzX",
        "outputId": "e1dd5011-9ee2-4142-ff58-3f7b296c573c"
      },
      "outputs": [
        {
          "output_type": "stream",
          "name": "stdout",
          "text": [
            "Enter your name :ANKITA CHAKRABORTY\n",
            "Enter your age :19\n",
            "Hello my name is  ANKITA CHAKRABORTY I am 19 years old\n"
          ]
        }
      ],
      "source": [
        "print(\"Hello my name is \",input(\"Enter your name :\"),\"I am\" ,input(\"Enter your age :\"),\"years old\")"
      ]
    }
  ]
}