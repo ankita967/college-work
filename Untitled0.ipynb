{
  "nbformat": 4,
  "nbformat_minor": 0,
  "metadata": {
    "colab": {
      "provenance": [],
      "authorship_tag": "ABX9TyOGnYibPoqV8grQ5Bu8B/WJ",
      "include_colab_link": true
    },
    "kernelspec": {
      "name": "python3",
      "display_name": "Python 3"
    },
    "language_info": {
      "name": "python"
    }
  },
  "cells": [
    {
      "cell_type": "markdown",
      "metadata": {
        "id": "view-in-github",
        "colab_type": "text"
      },
      "source": [
        "<a href=\"https://colab.research.google.com/github/ankita967/college-work/blob/main/Untitled0.ipynb\" target=\"_parent\"><img src=\"https://colab.research.google.com/assets/colab-badge.svg\" alt=\"Open In Colab\"/></a>"
      ]
    },
    {
      "cell_type": "code",
      "execution_count": 4,
      "metadata": {
        "colab": {
          "base_uri": "https://localhost:8080/"
        },
        "id": "_ipCo81jue7-",
        "outputId": "8aba048a-e5f0-4fdb-bf07-610dafe01520"
      },
      "outputs": [
        {
          "output_type": "stream",
          "name": "stdout",
          "text": [
            "Enter the first  number=12\n",
            "Enter the second  number=16\n",
            "Enter the third  number=54\n",
            "54 is the largest number\n",
            "16 is the second largest number\n",
            "12 is the smallest number\n"
          ]
        }
      ],
      "source": [
        "#Find the largest , second largest and the smallest number\n",
        "\n",
        "a=int(input(\"Enter the first  number=\"))\n",
        "b=int(input(\"Enter the second  number=\"))\n",
        "c=int(input(\"Enter the third  number=\"))\n",
        "\n",
        "if a>b and a>c:\n",
        "  print(a,\"is the largest number\")\n",
        "elif b>c and b>a:\n",
        "  print(b,\"is the largest number\")\n",
        "else:\n",
        "  print(c,\"is the largest number\")\n",
        "\n",
        "\n",
        "if a>b and a<c or a<b and a>c:\n",
        "  print(a,\"is the second largest number\")\n",
        "elif b>a and b<c or b<a and b>c:\n",
        "  print(b,\"is the second largest number\")\n",
        "else:\n",
        "  print(c,\"is the second largest number\")\n",
        "\n",
        "\n",
        "if a<b and a<c:\n",
        "  print(a,\"is the smallest number\")\n",
        "elif b<a and b<c:\n",
        "  print(b,\"is the smallest number\")\n",
        "else:\n",
        "  print(c,\"is the smallest number\")"
      ]
    },
    {
      "cell_type": "code",
      "source": [],
      "metadata": {
        "id": "meLplH2mz0MF"
      },
      "execution_count": 4,
      "outputs": []
    }
  ]
}